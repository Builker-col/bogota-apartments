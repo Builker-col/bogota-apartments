{
 "cells": [
  {
   "cell_type": "code",
   "execution_count": 1,
   "metadata": {},
   "outputs": [],
   "source": [
    "import pandas as pd\n",
    "import numpy as np\n",
    "import matplotlib.pyplot as plt\n",
    "import seaborn as sns\n",
    "import unidecode\n",
    "import warnings"
   ]
  },
  {
   "cell_type": "code",
   "execution_count": 2,
   "metadata": {},
   "outputs": [],
   "source": [
    "%matplotlib inline\n",
    "\n",
    "sns.set_style('darkgrid')\n",
    "# sns.set_palette('Set2')\n",
    "\n",
    "plt.rcParams['figure.figsize'] = (10, 6)\n",
    "\n",
    "warnings.filterwarnings('ignore')"
   ]
  },
  {
   "cell_type": "code",
   "execution_count": 3,
   "metadata": {},
   "outputs": [
    {
     "data": {
      "text/html": [
       "<div>\n",
       "<style scoped>\n",
       "    .dataframe tbody tr th:only-of-type {\n",
       "        vertical-align: middle;\n",
       "    }\n",
       "\n",
       "    .dataframe tbody tr th {\n",
       "        vertical-align: top;\n",
       "    }\n",
       "\n",
       "    .dataframe thead th {\n",
       "        text-align: right;\n",
       "    }\n",
       "</style>\n",
       "<table border=\"1\" class=\"dataframe\">\n",
       "  <thead>\n",
       "    <tr style=\"text-align: right;\">\n",
       "      <th></th>\n",
       "      <th>precio</th>\n",
       "      <th>area_m2</th>\n",
       "      <th>habitaciones</th>\n",
       "      <th>baños</th>\n",
       "      <th>estrato</th>\n",
       "      <th>barrio</th>\n",
       "      <th>antiguead</th>\n",
       "      <th>administracion</th>\n",
       "      <th>parqueadero</th>\n",
       "      <th>piso</th>\n",
       "      <th>...</th>\n",
       "      <th>vista_panoramica</th>\n",
       "      <th>vista_exterior</th>\n",
       "      <th>picina</th>\n",
       "      <th>terraza</th>\n",
       "      <th>balcon</th>\n",
       "      <th>area_terraza_balcon_m2</th>\n",
       "      <th>descripcion</th>\n",
       "      <th>link</th>\n",
       "      <th>query</th>\n",
       "      <th>date</th>\n",
       "    </tr>\n",
       "  </thead>\n",
       "  <tbody>\n",
       "    <tr>\n",
       "      <th>0</th>\n",
       "      <td>1290000000</td>\n",
       "      <td>170.00</td>\n",
       "      <td>4</td>\n",
       "      <td>3</td>\n",
       "      <td>6</td>\n",
       "      <td>Santa Barbara Usaquen</td>\n",
       "      <td>Más de 20 años</td>\n",
       "      <td>1490000.0</td>\n",
       "      <td>3.0</td>\n",
       "      <td>1</td>\n",
       "      <td>...</td>\n",
       "      <td>0</td>\n",
       "      <td>0</td>\n",
       "      <td>1</td>\n",
       "      <td>1</td>\n",
       "      <td>0</td>\n",
       "      <td>1.0</td>\n",
       "      <td>Amplio y remodelado apartamento .. excelente s...</td>\n",
       "      <td>https://www.metrocuadrado.com/inmueble/venta-a...</td>\n",
       "      <td>usaquen</td>\n",
       "      <td>Sun Apr  2 22:24:08 2023</td>\n",
       "    </tr>\n",
       "    <tr>\n",
       "      <th>1</th>\n",
       "      <td>450000000</td>\n",
       "      <td>89.37</td>\n",
       "      <td>3</td>\n",
       "      <td>2</td>\n",
       "      <td>4</td>\n",
       "      <td>Cedritos Usaquen</td>\n",
       "      <td>Entre 10 y 20 años</td>\n",
       "      <td>301000.0</td>\n",
       "      <td>1.0</td>\n",
       "      <td>2</td>\n",
       "      <td>...</td>\n",
       "      <td>0</td>\n",
       "      <td>0</td>\n",
       "      <td>0</td>\n",
       "      <td>0</td>\n",
       "      <td>0</td>\n",
       "      <td>NaN</td>\n",
       "      <td>Excelente apartamento ubicado en segundo piso ...</td>\n",
       "      <td>https://www.metrocuadrado.com/inmueble/venta-a...</td>\n",
       "      <td>usaquen</td>\n",
       "      <td>Sun Apr  2 22:24:18 2023</td>\n",
       "    </tr>\n",
       "    <tr>\n",
       "      <th>2</th>\n",
       "      <td>215000000</td>\n",
       "      <td>46.54</td>\n",
       "      <td>1</td>\n",
       "      <td>1</td>\n",
       "      <td>4</td>\n",
       "      <td>Cedritos</td>\n",
       "      <td>Más de 20 años</td>\n",
       "      <td>357000.0</td>\n",
       "      <td>1.0</td>\n",
       "      <td>1</td>\n",
       "      <td>...</td>\n",
       "      <td>0</td>\n",
       "      <td>0</td>\n",
       "      <td>0</td>\n",
       "      <td>0</td>\n",
       "      <td>0</td>\n",
       "      <td>NaN</td>\n",
       "      <td>MARIA HERRERA le ofrece Amplio e iluminado apa...</td>\n",
       "      <td>https://www.metrocuadrado.com/inmueble/venta-a...</td>\n",
       "      <td>usaquen</td>\n",
       "      <td>Sun Apr  2 22:24:25 2023</td>\n",
       "    </tr>\n",
       "    <tr>\n",
       "      <th>3</th>\n",
       "      <td>890000000</td>\n",
       "      <td>146.00</td>\n",
       "      <td>3</td>\n",
       "      <td>4</td>\n",
       "      <td>5</td>\n",
       "      <td>La Calleja Usaquen</td>\n",
       "      <td>Entre 10 y 20 años</td>\n",
       "      <td>760000.0</td>\n",
       "      <td>3.0</td>\n",
       "      <td>2</td>\n",
       "      <td>...</td>\n",
       "      <td>1</td>\n",
       "      <td>0</td>\n",
       "      <td>0</td>\n",
       "      <td>0</td>\n",
       "      <td>1</td>\n",
       "      <td>20.0</td>\n",
       "      <td>Venta apartamento en La Calleja Baja. Exterior...</td>\n",
       "      <td>https://www.metrocuadrado.com/inmueble/venta-a...</td>\n",
       "      <td>usaquen</td>\n",
       "      <td>Sun Apr  2 22:24:32 2023</td>\n",
       "    </tr>\n",
       "    <tr>\n",
       "      <th>4</th>\n",
       "      <td>930000000</td>\n",
       "      <td>189.00</td>\n",
       "      <td>5</td>\n",
       "      <td>4</td>\n",
       "      <td>3</td>\n",
       "      <td>Usaquen</td>\n",
       "      <td>Más de 20 años</td>\n",
       "      <td>1120000.0</td>\n",
       "      <td>3.0</td>\n",
       "      <td>9</td>\n",
       "      <td>...</td>\n",
       "      <td>1</td>\n",
       "      <td>0</td>\n",
       "      <td>0</td>\n",
       "      <td>1</td>\n",
       "      <td>0</td>\n",
       "      <td>NaN</td>\n",
       "      <td>SE VENDE APARTAMENTO Tiene dos apartamentos Un...</td>\n",
       "      <td>https://www.metrocuadrado.com/inmueble/venta-a...</td>\n",
       "      <td>usaquen</td>\n",
       "      <td>Sun Apr  2 22:24:39 2023</td>\n",
       "    </tr>\n",
       "  </tbody>\n",
       "</table>\n",
       "<p>5 rows × 26 columns</p>\n",
       "</div>"
      ],
      "text/plain": [
       "       precio  area_m2  habitaciones  baños estrato                 barrio  \\\n",
       "0  1290000000   170.00             4      3       6  Santa Barbara Usaquen   \n",
       "1   450000000    89.37             3      2       4       Cedritos Usaquen   \n",
       "2   215000000    46.54             1      1       4               Cedritos   \n",
       "3   890000000   146.00             3      4       5     La Calleja Usaquen   \n",
       "4   930000000   189.00             5      4       3                Usaquen   \n",
       "\n",
       "            antiguead  administracion  parqueadero piso  ... vista_panoramica  \\\n",
       "0      Más de 20 años       1490000.0          3.0    1  ...                0   \n",
       "1  Entre 10 y 20 años        301000.0          1.0    2  ...                0   \n",
       "2      Más de 20 años        357000.0          1.0    1  ...                0   \n",
       "3  Entre 10 y 20 años        760000.0          3.0    2  ...                1   \n",
       "4      Más de 20 años       1120000.0          3.0    9  ...                1   \n",
       "\n",
       "   vista_exterior  picina  terraza  balcon  area_terraza_balcon_m2  \\\n",
       "0               0       1        1       0                     1.0   \n",
       "1               0       0        0       0                     NaN   \n",
       "2               0       0        0       0                     NaN   \n",
       "3               0       0        0       1                    20.0   \n",
       "4               0       0        1       0                     NaN   \n",
       "\n",
       "                                         descripcion  \\\n",
       "0  Amplio y remodelado apartamento .. excelente s...   \n",
       "1  Excelente apartamento ubicado en segundo piso ...   \n",
       "2  MARIA HERRERA le ofrece Amplio e iluminado apa...   \n",
       "3  Venta apartamento en La Calleja Baja. Exterior...   \n",
       "4  SE VENDE APARTAMENTO Tiene dos apartamentos Un...   \n",
       "\n",
       "                                                link    query  \\\n",
       "0  https://www.metrocuadrado.com/inmueble/venta-a...  usaquen   \n",
       "1  https://www.metrocuadrado.com/inmueble/venta-a...  usaquen   \n",
       "2  https://www.metrocuadrado.com/inmueble/venta-a...  usaquen   \n",
       "3  https://www.metrocuadrado.com/inmueble/venta-a...  usaquen   \n",
       "4  https://www.metrocuadrado.com/inmueble/venta-a...  usaquen   \n",
       "\n",
       "                       date  \n",
       "0  Sun Apr  2 22:24:08 2023  \n",
       "1  Sun Apr  2 22:24:18 2023  \n",
       "2  Sun Apr  2 22:24:25 2023  \n",
       "3  Sun Apr  2 22:24:32 2023  \n",
       "4  Sun Apr  2 22:24:39 2023  \n",
       "\n",
       "[5 rows x 26 columns]"
      ]
     },
     "execution_count": 3,
     "metadata": {},
     "output_type": "execute_result"
    }
   ],
   "source": [
    "df = pd.read_csv('../../data/raw/bogota_raw.csv')\n",
    "df.head()"
   ]
  },
  {
   "cell_type": "code",
   "execution_count": 4,
   "metadata": {},
   "outputs": [
    {
     "data": {
      "text/plain": [
       "Index(['precio', 'area_m2', 'habitaciones', 'baños', 'estrato', 'barrio',\n",
       "       'antiguead', 'administracion', 'parqueadero', 'piso', 'codigo',\n",
       "       'equipado', 'sauna', 'jacuzzi', 'calefaccion', 'porteria',\n",
       "       'vista_panoramica', 'vista_exterior', 'picina', 'terraza', 'balcon',\n",
       "       'area_terraza_balcon_m2', 'descripcion', 'link', 'query', 'date'],\n",
       "      dtype='object')"
      ]
     },
     "execution_count": 4,
     "metadata": {},
     "output_type": "execute_result"
    }
   ],
   "source": [
    "df.columns"
   ]
  },
  {
   "attachments": {},
   "cell_type": "markdown",
   "metadata": {},
   "source": [
    "## Normalizar los datos"
   ]
  },
  {
   "cell_type": "code",
   "execution_count": 5,
   "metadata": {},
   "outputs": [
    {
     "name": "stdout",
     "output_type": "stream",
     "text": [
      "<class 'pandas.core.frame.DataFrame'>\n",
      "RangeIndex: 23856 entries, 0 to 23855\n",
      "Data columns (total 26 columns):\n",
      " #   Column                  Non-Null Count  Dtype  \n",
      "---  ------                  --------------  -----  \n",
      " 0   precio                  23856 non-null  int64  \n",
      " 1   area_m2                 23856 non-null  float64\n",
      " 2   habitaciones            23856 non-null  int64  \n",
      " 3   baños                   23856 non-null  int64  \n",
      " 4   estrato                 23856 non-null  object \n",
      " 5   barrio                  23766 non-null  object \n",
      " 6   antiguead               23794 non-null  object \n",
      " 7   administracion          21320 non-null  float64\n",
      " 8   parqueadero             20590 non-null  float64\n",
      " 9   piso                    14370 non-null  object \n",
      " 10  codigo                  23796 non-null  object \n",
      " 11  equipado                23856 non-null  int64  \n",
      " 12  sauna                   23856 non-null  int64  \n",
      " 13  jacuzzi                 23856 non-null  int64  \n",
      " 14  calefaccion             23856 non-null  int64  \n",
      " 15  porteria                23856 non-null  int64  \n",
      " 16  vista_panoramica        23856 non-null  int64  \n",
      " 17  vista_exterior          23856 non-null  int64  \n",
      " 18  picina                  23856 non-null  int64  \n",
      " 19  terraza                 23856 non-null  int64  \n",
      " 20  balcon                  23856 non-null  int64  \n",
      " 21  area_terraza_balcon_m2  6489 non-null   float64\n",
      " 22  descripcion             23856 non-null  object \n",
      " 23  link                    23856 non-null  object \n",
      " 24  query                   23856 non-null  object \n",
      " 25  date                    23856 non-null  object \n",
      "dtypes: float64(4), int64(13), object(9)\n",
      "memory usage: 4.7+ MB\n"
     ]
    }
   ],
   "source": [
    "df.info()"
   ]
  },
  {
   "cell_type": "code",
   "execution_count": 6,
   "metadata": {},
   "outputs": [
    {
     "name": "stdout",
     "output_type": "stream",
     "text": [
      "<class 'pandas.core.series.Series'>\n",
      "RangeIndex: 23856 entries, 0 to 23855\n",
      "Series name: date\n",
      "Non-Null Count  Dtype         \n",
      "--------------  -----         \n",
      "23856 non-null  datetime64[ns]\n",
      "dtypes: datetime64[ns](1)\n",
      "memory usage: 186.5 KB\n"
     ]
    }
   ],
   "source": [
    "df.date = pd.to_datetime(df.date)\n",
    "df.date.info()"
   ]
  },
  {
   "attachments": {},
   "cell_type": "markdown",
   "metadata": {},
   "source": [
    "### Barrio"
   ]
  },
  {
   "cell_type": "code",
   "execution_count": 7,
   "metadata": {},
   "outputs": [
    {
     "data": {
      "text/plain": [
       "LOS ROSALES                       698\n",
       "CHAPINERO ALTO                    684\n",
       "CEDRITOS                          624\n",
       "USAQUEN                           612\n",
       "SANTA BARBARA                     491\n",
       "                                 ... \n",
       "ENTRE RIOS ENGATIVÁ                 1\n",
       "SANTA ROSITA QUIRIGUA ENGATIVÁ      1\n",
       "ALAMOS LOS ANGELES ENGATIVÁ         1\n",
       "SAN JOSE DE LA GRANJA ENGATIVÁ      1\n",
       "NORTE CHICO NAVARRA                 1\n",
       "Name: barrio, Length: 2199, dtype: int64"
      ]
     },
     "execution_count": 7,
     "metadata": {},
     "output_type": "execute_result"
    }
   ],
   "source": [
    "df.barrio = df.barrio.str.upper()\n",
    "df.barrio.value_counts()"
   ]
  },
  {
   "attachments": {},
   "cell_type": "markdown",
   "metadata": {},
   "source": [
    "### Estratos"
   ]
  },
  {
   "cell_type": "code",
   "execution_count": 8,
   "metadata": {},
   "outputs": [
    {
     "data": {
      "text/plain": [
       "['1', '2', '3', '4', '5', '6']"
      ]
     },
     "execution_count": 8,
     "metadata": {},
     "output_type": "execute_result"
    }
   ],
   "source": [
    "estratos = df.estrato.unique().tolist()\n",
    "estratos.sort()\n",
    "estratos = estratos[1:7]\n",
    "estratos"
   ]
  },
  {
   "cell_type": "code",
   "execution_count": 9,
   "metadata": {},
   "outputs": [
    {
     "data": {
      "text/plain": [
       "6    8947\n",
       "4    5872\n",
       "5    4373\n",
       "3    3411\n",
       "2    1065\n",
       "1      97\n",
       "Name: estrato, dtype: int64"
      ]
     },
     "execution_count": 9,
     "metadata": {},
     "output_type": "execute_result"
    }
   ],
   "source": [
    "# Cambiar los estratos que no son numéricos a NaN\n",
    "df.estrato = df.estrato.apply(lambda x: np.nan if x not in estratos else x)\n",
    "df.estrato.value_counts()"
   ]
  },
  {
   "attachments": {},
   "cell_type": "markdown",
   "metadata": {},
   "source": [
    "### Piso"
   ]
  },
  {
   "cell_type": "code",
   "execution_count": 10,
   "metadata": {},
   "outputs": [
    {
     "data": {
      "text/plain": [
       "array(['1', '2', '9', '4', '5', '8', '3', '7', '0', '6', nan, 'o', 'a'],\n",
       "      dtype=object)"
      ]
     },
     "execution_count": 10,
     "metadata": {},
     "output_type": "execute_result"
    }
   ],
   "source": [
    "df.piso.unique()"
   ]
  },
  {
   "cell_type": "code",
   "execution_count": 11,
   "metadata": {},
   "outputs": [],
   "source": [
    "df.piso[df.piso == 'o'] = np.nan\n",
    "df.piso[df.piso == 'a'] = np.nan"
   ]
  },
  {
   "cell_type": "code",
   "execution_count": 12,
   "metadata": {},
   "outputs": [
    {
     "data": {
      "text/plain": [
       "array(['1', '2', '9', '4', '5', '8', '3', '7', '0', '6', nan],\n",
       "      dtype=object)"
      ]
     },
     "execution_count": 12,
     "metadata": {},
     "output_type": "execute_result"
    }
   ],
   "source": [
    "df.piso.unique()"
   ]
  },
  {
   "cell_type": "code",
   "execution_count": 13,
   "metadata": {},
   "outputs": [
    {
     "data": {
      "text/plain": [
       "array(['Más de 20 años', 'Entre 10 y 20 años', 'Remodelado',\n",
       "       'Entre 5 y 10 años', 'Entre 0 y 5 años', nan], dtype=object)"
      ]
     },
     "execution_count": 13,
     "metadata": {},
     "output_type": "execute_result"
    }
   ],
   "source": [
    "df.antiguead.unique()"
   ]
  },
  {
   "attachments": {},
   "cell_type": "markdown",
   "metadata": {},
   "source": [
    "### Barrio"
   ]
  },
  {
   "cell_type": "code",
   "execution_count": 14,
   "metadata": {},
   "outputs": [],
   "source": [
    "def text_normalize(text):\n",
    "    try:\n",
    "        return unidecode.unidecode(text).upper()\n",
    "    except:\n",
    "        return np.nan"
   ]
  },
  {
   "cell_type": "code",
   "execution_count": 15,
   "metadata": {},
   "outputs": [
    {
     "data": {
      "text/plain": [
       "LOS ROSALES                       698\n",
       "CHAPINERO ALTO                    684\n",
       "USAQUEN                           633\n",
       "CEDRITOS                          624\n",
       "SANTA BARBARA                     519\n",
       "                                 ... \n",
       "SANTA MARIA DE LAGO ENGATIVA        1\n",
       "EL MORTINO ENGATIVA                 1\n",
       "VILLAS DE GRANADA MONTECARLO 2      1\n",
       "BOCHICA II ENGATIVA                 1\n",
       "NORTE CHICO NAVARRA                 1\n",
       "Name: barrio, Length: 2125, dtype: int64"
      ]
     },
     "execution_count": 15,
     "metadata": {},
     "output_type": "execute_result"
    }
   ],
   "source": [
    "df.barrio = df.barrio.apply(lambda x: text_normalize(x))\n",
    "df.barrio.value_counts()"
   ]
  },
  {
   "attachments": {},
   "cell_type": "markdown",
   "metadata": {},
   "source": [
    "## Limpiar y eliminar datos"
   ]
  },
  {
   "cell_type": "code",
   "execution_count": 16,
   "metadata": {},
   "outputs": [
    {
     "data": {
      "text/plain": [
       "Index(['precio', 'area_m2', 'habitaciones', 'baños', 'estrato', 'barrio',\n",
       "       'antiguead', 'administracion', 'parqueadero', 'piso', 'codigo',\n",
       "       'equipado', 'sauna', 'jacuzzi', 'calefaccion', 'porteria',\n",
       "       'vista_panoramica', 'vista_exterior', 'picina', 'terraza', 'balcon',\n",
       "       'area_terraza_balcon_m2', 'descripcion', 'link', 'query', 'date'],\n",
       "      dtype='object')"
      ]
     },
     "execution_count": 16,
     "metadata": {},
     "output_type": "execute_result"
    }
   ],
   "source": [
    "df.columns"
   ]
  },
  {
   "cell_type": "code",
   "execution_count": 17,
   "metadata": {},
   "outputs": [
    {
     "data": {
      "text/plain": [
       "(23856, 26)"
      ]
     },
     "execution_count": 17,
     "metadata": {},
     "output_type": "execute_result"
    }
   ],
   "source": [
    "df.shape"
   ]
  },
  {
   "cell_type": "code",
   "execution_count": 18,
   "metadata": {},
   "outputs": [
    {
     "data": {
      "text/plain": [
       "7324"
      ]
     },
     "execution_count": 18,
     "metadata": {},
     "output_type": "execute_result"
    }
   ],
   "source": [
    "df.duplicated(subset=['codigo']).sum()"
   ]
  },
  {
   "cell_type": "code",
   "execution_count": 19,
   "metadata": {},
   "outputs": [
    {
     "data": {
      "text/plain": [
       "(16532, 26)"
      ]
     },
     "execution_count": 19,
     "metadata": {},
     "output_type": "execute_result"
    }
   ],
   "source": [
    "df.drop_duplicates(subset=['codigo'], inplace=True)\n",
    "df.shape"
   ]
  },
  {
   "cell_type": "code",
   "execution_count": 20,
   "metadata": {},
   "outputs": [],
   "source": [
    "# Eliminar columnas que no son necesarias\n",
    "del df['date']\n",
    "del df['link']"
   ]
  },
  {
   "cell_type": "code",
   "execution_count": 22,
   "metadata": {},
   "outputs": [
    {
     "data": {
      "text/plain": [
       "precio                        0\n",
       "area_m2                       0\n",
       "habitaciones                  0\n",
       "baños                         0\n",
       "estrato                      26\n",
       "barrio                       22\n",
       "antiguead                     3\n",
       "administracion             1859\n",
       "parqueadero                2421\n",
       "piso                       7345\n",
       "codigo                        1\n",
       "equipado                      0\n",
       "sauna                         0\n",
       "jacuzzi                       0\n",
       "calefaccion                   0\n",
       "porteria                      0\n",
       "vista_panoramica              0\n",
       "vista_exterior                0\n",
       "picina                        0\n",
       "terraza                       0\n",
       "balcon                        0\n",
       "area_terraza_balcon_m2    12608\n",
       "descripcion                   0\n",
       "query                         0\n",
       "dtype: int64"
      ]
     },
     "execution_count": 22,
     "metadata": {},
     "output_type": "execute_result"
    }
   ],
   "source": [
    "df.isna().sum()"
   ]
  },
  {
   "cell_type": "code",
   "execution_count": 23,
   "metadata": {},
   "outputs": [],
   "source": [
    "df.dropna(subset=['codigo'], inplace=True)"
   ]
  },
  {
   "cell_type": "code",
   "execution_count": 24,
   "metadata": {},
   "outputs": [
    {
     "data": {
      "text/plain": [
       "<AxesSubplot: >"
      ]
     },
     "execution_count": 24,
     "metadata": {},
     "output_type": "execute_result"
    },
    {
     "data": {
      "image/png": "[encoded data removed]",
      "text/plain": [
       "<Figure size 1000x600 with 1 Axes>"
      ]
     },
     "metadata": {},
     "output_type": "display_data"
    }
   ],
   "source": [
    "df.isna().sum().plot(kind='barh')"
   ]
  },
  {
   "cell_type": "code",
   "execution_count": 25,
   "metadata": {},
   "outputs": [
    {
     "data": {
      "text/plain": [
       "1.00      1244\n",
       "2.00       277\n",
       "8.00       270\n",
       "4.00       233\n",
       "5.00       222\n",
       "          ... \n",
       "5.20         1\n",
       "3.70         1\n",
       "86.00        1\n",
       "3.14         1\n",
       "116.00       1\n",
       "Name: area_terraza_balcon_m2, Length: 214, dtype: int64"
      ]
     },
     "execution_count": 25,
     "metadata": {},
     "output_type": "execute_result"
    }
   ],
   "source": [
    "df.area_terraza_balcon_m2.value_counts()"
   ]
  },
  {
   "cell_type": "code",
   "execution_count": 26,
   "metadata": {},
   "outputs": [
    {
     "data": {
      "text/plain": [
       "count      3924.000000\n",
       "mean         40.972806\n",
       "std        1596.446899\n",
       "min           1.000000\n",
       "25%           1.000000\n",
       "50%           4.000000\n",
       "75%          12.000000\n",
       "max      100000.000000\n",
       "Name: area_terraza_balcon_m2, dtype: float64"
      ]
     },
     "execution_count": 26,
     "metadata": {},
     "output_type": "execute_result"
    }
   ],
   "source": [
    "df.area_terraza_balcon_m2.describe()\n"
   ]
  },
  {
   "cell_type": "code",
   "execution_count": 27,
   "metadata": {},
   "outputs": [
    {
     "data": {
      "text/plain": [
       "array([3, 1, 2, 0, 4])"
      ]
     },
     "execution_count": 27,
     "metadata": {},
     "output_type": "execute_result"
    }
   ],
   "source": [
    "df.parqueadero.fillna(0, inplace=True)\n",
    "df.parqueadero = df.parqueadero.astype(int)\n",
    "df.parqueadero.unique()"
   ]
  },
  {
   "cell_type": "code",
   "execution_count": 28,
   "metadata": {},
   "outputs": [],
   "source": [
    "# si balcon es 0 y terraza es 0, entonces area_terraza_balcon_m2 es 0\n",
    "df.area_terraza_balcon_m2[(df.balcon == 0) & (df.terraza == 0)] = 0"
   ]
  },
  {
   "cell_type": "code",
   "execution_count": 29,
   "metadata": {},
   "outputs": [],
   "source": [
    "del df['piso']"
   ]
  },
  {
   "cell_type": "code",
   "execution_count": 30,
   "metadata": {},
   "outputs": [
    {
     "data": {
      "image/png": "[encoded data removed]",
      "text/plain": [
       "<Figure size 1000x600 with 1 Axes>"
      ]
     },
     "metadata": {},
     "output_type": "display_data"
    }
   ],
   "source": [
    "sns.heatmap(\n",
    "    df.isna(),\n",
    "    cbar=False,\n",
    "    yticklabels=False,\n",
    "    cmap='viridis'\n",
    ")\n",
    "\n",
    "plt.title('Missing values heatmap')\n",
    "plt.show()"
   ]
  },
  {
   "cell_type": "code",
   "execution_count": 31,
   "metadata": {},
   "outputs": [
    {
     "data": {
      "image/png": "[encoded data removed]",
      "text/plain": [
       "<Figure size 1000x600 with 1 Axes>"
      ]
     },
     "metadata": {},
     "output_type": "display_data"
    }
   ],
   "source": [
    "df.isna().sum().plot(kind='barh')\n",
    "\n",
    "plt.title('Missing values')\n",
    "plt.show()"
   ]
  },
  {
   "cell_type": "code",
   "execution_count": 32,
   "metadata": {},
   "outputs": [
    {
     "data": {
      "text/plain": [
       "precio                       0\n",
       "area_m2                      0\n",
       "habitaciones                 0\n",
       "baños                        0\n",
       "estrato                     25\n",
       "barrio                      21\n",
       "antiguead                    2\n",
       "administracion            1858\n",
       "parqueadero                  0\n",
       "codigo                       0\n",
       "equipado                     0\n",
       "sauna                        0\n",
       "jacuzzi                      0\n",
       "calefaccion                  0\n",
       "porteria                     0\n",
       "vista_panoramica             0\n",
       "vista_exterior               0\n",
       "picina                       0\n",
       "terraza                      0\n",
       "balcon                       0\n",
       "area_terraza_balcon_m2    3666\n",
       "descripcion                  0\n",
       "query                        0\n",
       "dtype: int64"
      ]
     },
     "execution_count": 32,
     "metadata": {},
     "output_type": "execute_result"
    }
   ],
   "source": [
    "df.isna().sum()"
   ]
  },
  {
   "cell_type": "code",
   "execution_count": 33,
   "metadata": {},
   "outputs": [
    {
     "data": {
      "text/plain": [
       "21"
      ]
     },
     "execution_count": 33,
     "metadata": {},
     "output_type": "execute_result"
    }
   ],
   "source": [
    "df.barrio.isna().sum()"
   ]
  },
  {
   "cell_type": "code",
   "execution_count": 34,
   "metadata": {},
   "outputs": [
    {
     "data": {
      "text/plain": [
       "2125"
      ]
     },
     "execution_count": 34,
     "metadata": {},
     "output_type": "execute_result"
    }
   ],
   "source": [
    "barrios = df.barrio.unique()\n",
    "barrios = barrios.tolist()\n",
    "barrios.remove(np.nan)\n",
    "len(barrios)"
   ]
  },
  {
   "cell_type": "code",
   "execution_count": 35,
   "metadata": {},
   "outputs": [
    {
     "data": {
      "text/html": [
       "<div>\n",
       "<style scoped>\n",
       "    .dataframe tbody tr th:only-of-type {\n",
       "        vertical-align: middle;\n",
       "    }\n",
       "\n",
       "    .dataframe tbody tr th {\n",
       "        vertical-align: top;\n",
       "    }\n",
       "\n",
       "    .dataframe thead th {\n",
       "        text-align: right;\n",
       "    }\n",
       "</style>\n",
       "<table border=\"1\" class=\"dataframe\">\n",
       "  <thead>\n",
       "    <tr style=\"text-align: right;\">\n",
       "      <th></th>\n",
       "      <th>precio</th>\n",
       "      <th>area_m2</th>\n",
       "      <th>habitaciones</th>\n",
       "      <th>baños</th>\n",
       "      <th>estrato</th>\n",
       "      <th>barrio</th>\n",
       "      <th>antiguead</th>\n",
       "      <th>administracion</th>\n",
       "      <th>parqueadero</th>\n",
       "      <th>codigo</th>\n",
       "      <th>...</th>\n",
       "      <th>calefaccion</th>\n",
       "      <th>porteria</th>\n",
       "      <th>vista_panoramica</th>\n",
       "      <th>vista_exterior</th>\n",
       "      <th>picina</th>\n",
       "      <th>terraza</th>\n",
       "      <th>balcon</th>\n",
       "      <th>area_terraza_balcon_m2</th>\n",
       "      <th>descripcion</th>\n",
       "      <th>query</th>\n",
       "    </tr>\n",
       "  </thead>\n",
       "  <tbody>\n",
       "    <tr>\n",
       "      <th>10390</th>\n",
       "      <td>4550000000</td>\n",
       "      <td>320.0</td>\n",
       "      <td>2</td>\n",
       "      <td>3</td>\n",
       "      <td>6</td>\n",
       "      <td>NaN</td>\n",
       "      <td>Entre 5 y 10 años</td>\n",
       "      <td>NaN</td>\n",
       "      <td>4</td>\n",
       "      <td>17-M4173473</td>\n",
       "      <td>...</td>\n",
       "      <td>0</td>\n",
       "      <td>0</td>\n",
       "      <td>1</td>\n",
       "      <td>0</td>\n",
       "      <td>1</td>\n",
       "      <td>1</td>\n",
       "      <td>0</td>\n",
       "      <td>1.0</td>\n",
       "      <td>Grandioso apartamento en cerros de los alpes 3...</td>\n",
       "      <td>kennedy</td>\n",
       "    </tr>\n",
       "    <tr>\n",
       "      <th>10397</th>\n",
       "      <td>5000000000</td>\n",
       "      <td>307.0</td>\n",
       "      <td>3</td>\n",
       "      <td>4</td>\n",
       "      <td>6</td>\n",
       "      <td>NaN</td>\n",
       "      <td>Entre 0 y 5 años</td>\n",
       "      <td>NaN</td>\n",
       "      <td>4</td>\n",
       "      <td>17-M3975700</td>\n",
       "      <td>...</td>\n",
       "      <td>0</td>\n",
       "      <td>0</td>\n",
       "      <td>1</td>\n",
       "      <td>0</td>\n",
       "      <td>1</td>\n",
       "      <td>1</td>\n",
       "      <td>0</td>\n",
       "      <td>1.0</td>\n",
       "      <td>Espectacular apartamento en cerros de los alpe...</td>\n",
       "      <td>kennedy</td>\n",
       "    </tr>\n",
       "    <tr>\n",
       "      <th>10411</th>\n",
       "      <td>4550000000</td>\n",
       "      <td>320.0</td>\n",
       "      <td>2</td>\n",
       "      <td>3</td>\n",
       "      <td>6</td>\n",
       "      <td>NaN</td>\n",
       "      <td>Entre 5 y 10 años</td>\n",
       "      <td>NaN</td>\n",
       "      <td>4</td>\n",
       "      <td>17-M4173124</td>\n",
       "      <td>...</td>\n",
       "      <td>0</td>\n",
       "      <td>0</td>\n",
       "      <td>1</td>\n",
       "      <td>0</td>\n",
       "      <td>1</td>\n",
       "      <td>1</td>\n",
       "      <td>0</td>\n",
       "      <td>1.0</td>\n",
       "      <td>Grandioso apartamento en cerros de los alpes 3...</td>\n",
       "      <td>kennedy</td>\n",
       "    </tr>\n",
       "  </tbody>\n",
       "</table>\n",
       "<p>3 rows × 23 columns</p>\n",
       "</div>"
      ],
      "text/plain": [
       "           precio  area_m2  habitaciones  baños estrato barrio  \\\n",
       "10390  4550000000    320.0             2      3       6    NaN   \n",
       "10397  5000000000    307.0             3      4       6    NaN   \n",
       "10411  4550000000    320.0             2      3       6    NaN   \n",
       "\n",
       "               antiguead  administracion  parqueadero       codigo  ...  \\\n",
       "10390  Entre 5 y 10 años             NaN            4  17-M4173473  ...   \n",
       "10397   Entre 0 y 5 años             NaN            4  17-M3975700  ...   \n",
       "10411  Entre 5 y 10 años             NaN            4  17-M4173124  ...   \n",
       "\n",
       "       calefaccion  porteria  vista_panoramica  vista_exterior  picina  \\\n",
       "10390            0         0                 1               0       1   \n",
       "10397            0         0                 1               0       1   \n",
       "10411            0         0                 1               0       1   \n",
       "\n",
       "       terraza  balcon  area_terraza_balcon_m2  \\\n",
       "10390        1       0                     1.0   \n",
       "10397        1       0                     1.0   \n",
       "10411        1       0                     1.0   \n",
       "\n",
       "                                             descripcion    query  \n",
       "10390  Grandioso apartamento en cerros de los alpes 3...  kennedy  \n",
       "10397  Espectacular apartamento en cerros de los alpe...  kennedy  \n",
       "10411  Grandioso apartamento en cerros de los alpes 3...  kennedy  \n",
       "\n",
       "[3 rows x 23 columns]"
      ]
     },
     "execution_count": 35,
     "metadata": {},
     "output_type": "execute_result"
    }
   ],
   "source": [
    "barrios_na = df[df.barrio.isna()]\n",
    "barrios_na.head(3)"
   ]
  },
  {
   "cell_type": "code",
   "execution_count": 36,
   "metadata": {},
   "outputs": [],
   "source": [
    "# busca si el barrio está en la descripción\n",
    "def find_barrio_in_description(x, barrios):\n",
    "    for barrio in barrios:\n",
    "        if barrio in str(x.descripcion).upper():\n",
    "            return barrio\n",
    "    return np.nan"
   ]
  },
  {
   "cell_type": "code",
   "execution_count": 37,
   "metadata": {},
   "outputs": [],
   "source": [
    "barrios_na.barrio = barrios_na[barrios_na.barrio.isna()].apply(\n",
    "    lambda x: find_barrio_in_description(x, barrios), axis=1)"
   ]
  },
  {
   "cell_type": "code",
   "execution_count": 38,
   "metadata": {},
   "outputs": [
    {
     "data": {
      "text/html": [
       "<div>\n",
       "<style scoped>\n",
       "    .dataframe tbody tr th:only-of-type {\n",
       "        vertical-align: middle;\n",
       "    }\n",
       "\n",
       "    .dataframe tbody tr th {\n",
       "        vertical-align: top;\n",
       "    }\n",
       "\n",
       "    .dataframe thead th {\n",
       "        text-align: right;\n",
       "    }\n",
       "</style>\n",
       "<table border=\"1\" class=\"dataframe\">\n",
       "  <thead>\n",
       "    <tr style=\"text-align: right;\">\n",
       "      <th></th>\n",
       "      <th>precio</th>\n",
       "      <th>area_m2</th>\n",
       "      <th>habitaciones</th>\n",
       "      <th>baños</th>\n",
       "      <th>estrato</th>\n",
       "      <th>barrio</th>\n",
       "      <th>antiguead</th>\n",
       "      <th>administracion</th>\n",
       "      <th>parqueadero</th>\n",
       "      <th>codigo</th>\n",
       "      <th>...</th>\n",
       "      <th>calefaccion</th>\n",
       "      <th>porteria</th>\n",
       "      <th>vista_panoramica</th>\n",
       "      <th>vista_exterior</th>\n",
       "      <th>picina</th>\n",
       "      <th>terraza</th>\n",
       "      <th>balcon</th>\n",
       "      <th>area_terraza_balcon_m2</th>\n",
       "      <th>descripcion</th>\n",
       "      <th>query</th>\n",
       "    </tr>\n",
       "  </thead>\n",
       "  <tbody>\n",
       "    <tr>\n",
       "      <th>10390</th>\n",
       "      <td>4550000000</td>\n",
       "      <td>320.0</td>\n",
       "      <td>2</td>\n",
       "      <td>3</td>\n",
       "      <td>6</td>\n",
       "      <td>CERROS DE LOS ALPES</td>\n",
       "      <td>Entre 5 y 10 años</td>\n",
       "      <td>NaN</td>\n",
       "      <td>4</td>\n",
       "      <td>17-M4173473</td>\n",
       "      <td>...</td>\n",
       "      <td>0</td>\n",
       "      <td>0</td>\n",
       "      <td>1</td>\n",
       "      <td>0</td>\n",
       "      <td>1</td>\n",
       "      <td>1</td>\n",
       "      <td>0</td>\n",
       "      <td>1.0</td>\n",
       "      <td>Grandioso apartamento en cerros de los alpes 3...</td>\n",
       "      <td>kennedy</td>\n",
       "    </tr>\n",
       "    <tr>\n",
       "      <th>10397</th>\n",
       "      <td>5000000000</td>\n",
       "      <td>307.0</td>\n",
       "      <td>3</td>\n",
       "      <td>4</td>\n",
       "      <td>6</td>\n",
       "      <td>CERROS DE LOS ALPES</td>\n",
       "      <td>Entre 0 y 5 años</td>\n",
       "      <td>NaN</td>\n",
       "      <td>4</td>\n",
       "      <td>17-M3975700</td>\n",
       "      <td>...</td>\n",
       "      <td>0</td>\n",
       "      <td>0</td>\n",
       "      <td>1</td>\n",
       "      <td>0</td>\n",
       "      <td>1</td>\n",
       "      <td>1</td>\n",
       "      <td>0</td>\n",
       "      <td>1.0</td>\n",
       "      <td>Espectacular apartamento en cerros de los alpe...</td>\n",
       "      <td>kennedy</td>\n",
       "    </tr>\n",
       "    <tr>\n",
       "      <th>10411</th>\n",
       "      <td>4550000000</td>\n",
       "      <td>320.0</td>\n",
       "      <td>2</td>\n",
       "      <td>3</td>\n",
       "      <td>6</td>\n",
       "      <td>CERROS DE LOS ALPES</td>\n",
       "      <td>Entre 5 y 10 años</td>\n",
       "      <td>NaN</td>\n",
       "      <td>4</td>\n",
       "      <td>17-M4173124</td>\n",
       "      <td>...</td>\n",
       "      <td>0</td>\n",
       "      <td>0</td>\n",
       "      <td>1</td>\n",
       "      <td>0</td>\n",
       "      <td>1</td>\n",
       "      <td>1</td>\n",
       "      <td>0</td>\n",
       "      <td>1.0</td>\n",
       "      <td>Grandioso apartamento en cerros de los alpes 3...</td>\n",
       "      <td>kennedy</td>\n",
       "    </tr>\n",
       "  </tbody>\n",
       "</table>\n",
       "<p>3 rows × 23 columns</p>\n",
       "</div>"
      ],
      "text/plain": [
       "           precio  area_m2  habitaciones  baños estrato               barrio  \\\n",
       "10390  4550000000    320.0             2      3       6  CERROS DE LOS ALPES   \n",
       "10397  5000000000    307.0             3      4       6  CERROS DE LOS ALPES   \n",
       "10411  4550000000    320.0             2      3       6  CERROS DE LOS ALPES   \n",
       "\n",
       "               antiguead  administracion  parqueadero       codigo  ...  \\\n",
       "10390  Entre 5 y 10 años             NaN            4  17-M4173473  ...   \n",
       "10397   Entre 0 y 5 años             NaN            4  17-M3975700  ...   \n",
       "10411  Entre 5 y 10 años             NaN            4  17-M4173124  ...   \n",
       "\n",
       "       calefaccion  porteria  vista_panoramica  vista_exterior  picina  \\\n",
       "10390            0         0                 1               0       1   \n",
       "10397            0         0                 1               0       1   \n",
       "10411            0         0                 1               0       1   \n",
       "\n",
       "       terraza  balcon  area_terraza_balcon_m2  \\\n",
       "10390        1       0                     1.0   \n",
       "10397        1       0                     1.0   \n",
       "10411        1       0                     1.0   \n",
       "\n",
       "                                             descripcion    query  \n",
       "10390  Grandioso apartamento en cerros de los alpes 3...  kennedy  \n",
       "10397  Espectacular apartamento en cerros de los alpe...  kennedy  \n",
       "10411  Grandioso apartamento en cerros de los alpes 3...  kennedy  \n",
       "\n",
       "[3 rows x 23 columns]"
      ]
     },
     "execution_count": 38,
     "metadata": {},
     "output_type": "execute_result"
    }
   ],
   "source": [
    "barrios_na.head(3)"
   ]
  },
  {
   "cell_type": "code",
   "execution_count": 39,
   "metadata": {},
   "outputs": [
    {
     "data": {
      "text/plain": [
       "7"
      ]
     },
     "execution_count": 39,
     "metadata": {},
     "output_type": "execute_result"
    }
   ],
   "source": [
    "df[df.barrio.isna()] = barrios_na\n",
    "df.barrio.isna().sum()"
   ]
  },
  {
   "cell_type": "code",
   "execution_count": 40,
   "metadata": {},
   "outputs": [
    {
     "data": {
      "text/plain": [
       "Index(['precio', 'area_m2', 'habitaciones', 'baños', 'estrato', 'barrio',\n",
       "       'antiguead', 'administracion', 'parqueadero', 'codigo', 'equipado',\n",
       "       'sauna', 'jacuzzi', 'calefaccion', 'porteria', 'vista_panoramica',\n",
       "       'vista_exterior', 'picina', 'terraza', 'balcon',\n",
       "       'area_terraza_balcon_m2', 'descripcion', 'query'],\n",
       "      dtype='object')"
      ]
     },
     "execution_count": 40,
     "metadata": {},
     "output_type": "execute_result"
    }
   ],
   "source": [
    "df.columns"
   ]
  },
  {
   "attachments": {},
   "cell_type": "markdown",
   "metadata": {},
   "source": [
    "### AGREGANDO LOCALIDAD"
   ]
  },
  {
   "cell_type": "code",
   "execution_count": 41,
   "metadata": {},
   "outputs": [
    {
     "data": {
      "text/plain": [
       "CHAPINERO ALTO                 572\n",
       "LOS ROSALES                    499\n",
       "CEDRITOS                       445\n",
       "USAQUEN                        444\n",
       "CHAPINERO                      352\n",
       "                              ... \n",
       "ATICOS DE LA COLINA              1\n",
       "BOSQUE VERDE CERROS DE SUBA      1\n",
       "COLINA GILMAR                    1\n",
       "BELALCAZAR NORTE                 1\n",
       "NORTE CHICO NAVARRA              1\n",
       "Name: barrio, Length: 2125, dtype: int64"
      ]
     },
     "execution_count": 41,
     "metadata": {},
     "output_type": "execute_result"
    }
   ],
   "source": [
    "df.barrio.value_counts()"
   ]
  },
  {
   "cell_type": "code",
   "execution_count": 42,
   "metadata": {},
   "outputs": [],
   "source": [
    "df.drop(df[df.barrio == 'SOACHA'].index, inplace=True)\n",
    "df.drop(df[df.barrio == 'HOGARES SOACHA'].index, inplace=True)\n",
    "df.drop(df[df.barrio == 'SANTA CECILIA'].index, inplace=True)\n",
    "df.drop(df[df.barrio == 'CAMPO VERDE'].index, inplace=True) # ELIMINADOS DEL WEB SITE\n",
    "df.drop(df[df.barrio == 'LA CALERA'].index, inplace=True)\n",
    "df.drop(df[df.barrio == 'CHIA'].index, inplace=True)\n",
    "df.drop(df[df.barrio == 'CHIA VIA COTA'].index, inplace=True)\n",
    "df.drop(df[df.codigo == '800-M2796716'].index, inplace=True)\n",
    "df.drop(df[df.codigo == '10858-M4162937'].index, inplace=True)\n",
    "df.drop(df[df.codigo == '10858-M4163382'].index, inplace=True)\n",
    "df.drop(df[df.codigo == '10858-M4163383'].index, inplace=True)\n",
    "df.drop(df[df.codigo == '10858-M4173603'].index, inplace=True)\n"
   ]
  },
  {
   "cell_type": "code",
   "execution_count": 43,
   "metadata": {},
   "outputs": [],
   "source": [
    "from utils.bogota_utils import normalize_barrio, assing_localidad, change_barrio\n",
    "\n",
    "change_barrio(df)\n",
    "df.barrio = df.barrio.apply(lambda x: normalize_barrio(x))\n",
    "df['localidad'] = df.barrio.apply(lambda x: assing_localidad(x))\n"
   ]
  },
  {
   "cell_type": "code",
   "execution_count": 44,
   "metadata": {},
   "outputs": [],
   "source": [
    "df.localidad[(df.barrio == 'LAS MARGARITAS') & (df.estrato == '2')] = 'KENNEDY'\n",
    "df.localidad[(df.barrio == 'LAS MARGARITAS') & (df.estrato == '4')] = 'USAQUEN'\n",
    "df.localidad[(df.barrio == 'CENTRO CANDELARIA') & (df['query'] == 'la-candelaria')] = 'LA CANDELARIA'\n",
    "df.localidad[(df.barrio == 'CENTRO CANDELARIA') & (df['query'] == 'kennedy')] = 'SANTA FE'\n",
    "df.localidad[(df.barrio == 'NORTE') & (df['query'] == 'chapinero')] = 'CHAPINERO'\n",
    "df.localidad[(df.barrio == 'NORTE') & (df['query'] == 'usaquen')] = 'USAQUEN'\n",
    "df.localidad[df.barrio == 'UNIVERSIDAD NACIONAL'] = 'CHAPINERO'\n"
   ]
  },
  {
   "cell_type": "code",
   "execution_count": 45,
   "metadata": {},
   "outputs": [],
   "source": [
    "df.drop(df[df.localidad == 'OTRO'].index, inplace=True)"
   ]
  },
  {
   "cell_type": "code",
   "execution_count": 46,
   "metadata": {},
   "outputs": [
    {
     "data": {
      "text/plain": [
       "CHAPINERO             5521\n",
       "USAQUEN               5040\n",
       "SUBA                  2656\n",
       "TEUSAQUILLO            772\n",
       "FONTIBON               429\n",
       "SANTA FE               391\n",
       "KENNEDY                331\n",
       "ENGATIVA               303\n",
       "BOSA                   193\n",
       "BARRIOS UNIDOS         161\n",
       "SAN CRISTOBAL          147\n",
       "USME                   118\n",
       "CIUDAD BOLIVAR          74\n",
       "PUENTE ARANDA           71\n",
       "LA CANDELARIA           61\n",
       "RAFAEL URIBE URIBE      56\n",
       "MARTIRES                48\n",
       "TUNJUELITO              34\n",
       "ANTONIO NARIÑO          29\n",
       "Name: localidad, dtype: int64"
      ]
     },
     "execution_count": 46,
     "metadata": {},
     "output_type": "execute_result"
    }
   ],
   "source": [
    "df.localidad.value_counts()"
   ]
  },
  {
   "attachments": {},
   "cell_type": "markdown",
   "metadata": {},
   "source": [
    "## separar descripción y guardar en csv"
   ]
  },
  {
   "cell_type": "code",
   "execution_count": 47,
   "metadata": {},
   "outputs": [],
   "source": [
    "del df['query']"
   ]
  },
  {
   "cell_type": "code",
   "execution_count": 48,
   "metadata": {},
   "outputs": [
    {
     "data": {
      "text/plain": [
       "Index(['precio', 'area_m2', 'habitaciones', 'baños', 'estrato', 'barrio',\n",
       "       'antiguead', 'administracion', 'parqueadero', 'codigo', 'equipado',\n",
       "       'sauna', 'jacuzzi', 'calefaccion', 'porteria', 'vista_panoramica',\n",
       "       'vista_exterior', 'picina', 'terraza', 'balcon',\n",
       "       'area_terraza_balcon_m2', 'descripcion', 'localidad'],\n",
       "      dtype='object')"
      ]
     },
     "execution_count": 48,
     "metadata": {},
     "output_type": "execute_result"
    }
   ],
   "source": [
    "df.columns"
   ]
  },
  {
   "cell_type": "code",
   "execution_count": 50,
   "metadata": {},
   "outputs": [
    {
     "data": {
      "text/html": [
       "<div>\n",
       "<style scoped>\n",
       "    .dataframe tbody tr th:only-of-type {\n",
       "        vertical-align: middle;\n",
       "    }\n",
       "\n",
       "    .dataframe tbody tr th {\n",
       "        vertical-align: top;\n",
       "    }\n",
       "\n",
       "    .dataframe thead th {\n",
       "        text-align: right;\n",
       "    }\n",
       "</style>\n",
       "<table border=\"1\" class=\"dataframe\">\n",
       "  <thead>\n",
       "    <tr style=\"text-align: right;\">\n",
       "      <th></th>\n",
       "      <th>codigo</th>\n",
       "      <th>descripcion</th>\n",
       "    </tr>\n",
       "  </thead>\n",
       "  <tbody>\n",
       "    <tr>\n",
       "      <th>0</th>\n",
       "      <td>14876-M4050776</td>\n",
       "      <td>Amplio y remodelado apartamento .. excelente s...</td>\n",
       "    </tr>\n",
       "    <tr>\n",
       "      <th>1</th>\n",
       "      <td>258-M3849369</td>\n",
       "      <td>Excelente apartamento ubicado en segundo piso ...</td>\n",
       "    </tr>\n",
       "    <tr>\n",
       "      <th>2</th>\n",
       "      <td>13436-M4154580</td>\n",
       "      <td>MARIA HERRERA le ofrece Amplio e iluminado apa...</td>\n",
       "    </tr>\n",
       "  </tbody>\n",
       "</table>\n",
       "</div>"
      ],
      "text/plain": [
       "           codigo                                        descripcion\n",
       "0  14876-M4050776  Amplio y remodelado apartamento .. excelente s...\n",
       "1    258-M3849369  Excelente apartamento ubicado en segundo piso ...\n",
       "2  13436-M4154580  MARIA HERRERA le ofrece Amplio e iluminado apa..."
      ]
     },
     "execution_count": 50,
     "metadata": {},
     "output_type": "execute_result"
    }
   ],
   "source": [
    "df_descripcion = df[['codigo', 'descripcion']]\n",
    "df_descripcion.head(3)"
   ]
  },
  {
   "cell_type": "code",
   "execution_count": 51,
   "metadata": {},
   "outputs": [],
   "source": [
    "df_descripcion.to_csv('../../data/bogota_descripcion.csv', index=False)"
   ]
  },
  {
   "cell_type": "code",
   "execution_count": 52,
   "metadata": {},
   "outputs": [],
   "source": [
    "del df['descripcion']"
   ]
  },
  {
   "cell_type": "code",
   "execution_count": 54,
   "metadata": {},
   "outputs": [
    {
     "data": {
      "text/plain": [
       "Index(['precio', 'area_m2', 'habitaciones', 'baños', 'estrato', 'barrio',\n",
       "       'antiguead', 'administracion', 'parqueadero', 'codigo', 'equipado',\n",
       "       'sauna', 'jacuzzi', 'calefaccion', 'porteria', 'vista_panoramica',\n",
       "       'vista_exterior', 'picina', 'terraza', 'balcon',\n",
       "       'area_terraza_balcon_m2', 'localidad'],\n",
       "      dtype='object')"
      ]
     },
     "execution_count": 54,
     "metadata": {},
     "output_type": "execute_result"
    }
   ],
   "source": [
    "df.columns"
   ]
  },
  {
   "cell_type": "code",
   "execution_count": 53,
   "metadata": {},
   "outputs": [
    {
     "data": {
      "text/plain": [
       "(16464, 22)"
      ]
     },
     "execution_count": 53,
     "metadata": {},
     "output_type": "execute_result"
    }
   ],
   "source": [
    "df.shape"
   ]
  },
  {
   "cell_type": "code",
   "execution_count": 55,
   "metadata": {},
   "outputs": [],
   "source": [
    "df.to_csv('../../data/bogota.csv', index=False)"
   ]
  }
 ],
 "metadata": {
  "kernelspec": {
   "display_name": "Python 3",
   "language": "python",
   "name": "python3"
  },
  "language_info": {
   "codemirror_mode": {
    "name": "ipython",
    "version": 3
   },
   "file_extension": ".py",
   "mimetype": "text/x-python",
   "name": "python",
   "nbconvert_exporter": "python",
   "pygments_lexer": "ipython3",
   "version": "3.11.1"
  },
  "orig_nbformat": 4
 },
 "nbformat": 4,
 "nbformat_minor": 2
}
